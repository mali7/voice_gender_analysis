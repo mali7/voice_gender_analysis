{
 "cells": [
  {
   "cell_type": "code",
   "execution_count": 12,
   "metadata": {
    "collapsed": false
   },
   "outputs": [
    {
     "data": {
      "text/plain": [
       "280"
      ]
     },
     "execution_count": 12,
     "metadata": {},
     "output_type": "execute_result"
    }
   ],
   "source": [
    "import pandas as pd\n",
    "import numpy as np\n",
    "from scipy.stats import mannwhitneyu\n",
    "import matplotlib.pyplot as plt\n",
    "%matplotlib inline\n",
    "colors = ['lightblue', 'pink']\n",
    "feature_keys = ['total words','total uniq', 'total wpt','D uniq','D words',\\\n",
    "                'D wpt','D pos_avg','P uniq','P words','P wpt','P pos_avg']\n",
    "df_phase1  = pd.read_csv('phase1_lect_ata_new_df.csv')\n",
    "df_phase2  = pd.read_csv('phase2_lect_ata_new_df.csv')\n",
    "df = pd.concat([df_phase1,df_phase2])\n",
    "\n",
    "df_sent  = pd.read_csv('all_w_sent.csv',encoding = \"ISO-8859-1\")\n",
    "df_liwc  = pd.read_csv('all_w_liwc.csv',encoding = \"ISO-8859-1\")\n",
    "#df_liwc = df_liwc.groupby(['Filename']).mean()\n",
    "#df_sent = df_sent.groupby(['Filename']).mean()\n",
    "def get_male_female_files(p_male,d_male):\n",
    "\tphase1_files = df_phase1[(df_phase1['isPatientMale']==p_male)&(df_phase1['isDoctorMale']==d_male)]['Filename'].tolist()\n",
    "\tphase2_files = df_phase2[(df_phase2['isPatientMale']==p_male)&(df_phase2['isDoctorMale']==d_male)]['Filename'].tolist()\n",
    "\treturn phase1_files+phase2_files\n",
    "\n",
    "male_doctor_file_names = get_male_female_files(0,1)+ get_male_female_files(1,1)\n",
    "female_doctor_file_names = get_male_female_files(0,0)+ get_male_female_files(1,0)\n",
    "male_patient_file_names = get_male_female_files(1,0)+ get_male_female_files(1,1)\n",
    "female_patient_file_names = get_male_female_files(0,0)+ get_male_female_files(0,1)\n",
    "\n",
    "maleD_femaleP_file_names = get_male_female_files(0,1)\n",
    "maleD_maleP_file_names = get_male_female_files(1,1)\n",
    "femaleD_femaleP_file_names = get_male_female_files(0,0)\n",
    "femaleD_maleP_file_names = get_male_female_files(1,0)\n",
    "df['C pos_avg'].dropna().count()"
   ]
  },
  {
   "cell_type": "markdown",
   "metadata": {},
   "source": [
    "<h2>Difference in Male-female doctors' liwc features</h2>"
   ]
  },
  {
   "cell_type": "code",
   "execution_count": 2,
   "metadata": {
    "collapsed": false
   },
   "outputs": [],
   "source": [
    "liwc_categories = df_liwc.keys()[3:]\n",
    "liwc_categories = ['Achievement','Affective','Anger','Anxiety','Biological','Body','Causation','Certainty','Cognitive',\\\n",
    "                 'Discrepancy','Family','Feeling','Fillers','Friends','Future tense','Health','Hearing','Home',\\\n",
    "                 'Humans','Insight','Leisure','Money','Negative Emotion','Positive emotion','Religion','Sadness',\\\n",
    "                 'Sexual','Social','Swear','Time','death@Death']\n",
    "result = dict()\n",
    "result['Feature'] = []\n",
    "result['Male Mean'] = []\n",
    "result['Female Mean'] = []\n",
    "result['MWU P'] = []\n",
    "result['Cliff\\'s d'] = []\n",
    "for cat in liwc_categories:\n",
    "    male_feat = df_liwc[df_liwc['Filename'].isin(male_doctor_file_names)].groupby(['Filename']).sum()\n",
    "    male_feat = male_feat[cat]/male_feat['n_words']\n",
    "    female_feat = df_liwc[df_liwc['Filename'].isin(female_doctor_file_names)].groupby(['Filename']).sum()\n",
    "    female_feat = female_feat[cat]/female_feat['n_words']\n",
    "    \n",
    "    U, p = mannwhitneyu(male_feat,female_feat)\n",
    "    d = 2*U/(len(male_feat)*len(female_feat)) -1\n",
    "    result['Feature'].append(cat)\n",
    "    result['Male Mean'].append(male_feat.mean())\n",
    "    result['Female Mean'].append(female_feat.mean())\n",
    "    result['MWU P'].append(p*43)\n",
    "    result['Cliff\\'s d'].append(abs(d))\n",
    "    #print(cat,male_feat.mean(),female_feat.mean(),p,d)\n",
    "result = pd.DataFrame(result)\n",
    "result = result.sort_values(['MWU P'])"
   ]
  },
  {
   "cell_type": "code",
   "execution_count": 3,
   "metadata": {
    "collapsed": false
   },
   "outputs": [
    {
     "data": {
      "text/html": [
       "<div>\n",
       "<style scoped>\n",
       "    .dataframe tbody tr th:only-of-type {\n",
       "        vertical-align: middle;\n",
       "    }\n",
       "\n",
       "    .dataframe tbody tr th {\n",
       "        vertical-align: top;\n",
       "    }\n",
       "\n",
       "    .dataframe thead th {\n",
       "        text-align: right;\n",
       "    }\n",
       "</style>\n",
       "<table border=\"1\" class=\"dataframe\">\n",
       "  <thead>\n",
       "    <tr style=\"text-align: right;\">\n",
       "      <th></th>\n",
       "      <th>Feature</th>\n",
       "      <th>Male Mean</th>\n",
       "      <th>Female Mean</th>\n",
       "      <th>MWU P</th>\n",
       "      <th>Cliff's d</th>\n",
       "    </tr>\n",
       "  </thead>\n",
       "  <tbody>\n",
       "    <tr>\n",
       "      <th>8</th>\n",
       "      <td>Cognitive</td>\n",
       "      <td>0.152319</td>\n",
       "      <td>0.160829</td>\n",
       "      <td>0.000080</td>\n",
       "      <td>0.290443</td>\n",
       "    </tr>\n",
       "    <tr>\n",
       "      <th>12</th>\n",
       "      <td>Fillers</td>\n",
       "      <td>0.004838</td>\n",
       "      <td>0.005805</td>\n",
       "      <td>0.000305</td>\n",
       "      <td>0.272564</td>\n",
       "    </tr>\n",
       "    <tr>\n",
       "      <th>19</th>\n",
       "      <td>Insight</td>\n",
       "      <td>0.016821</td>\n",
       "      <td>0.018784</td>\n",
       "      <td>0.000482</td>\n",
       "      <td>0.266203</td>\n",
       "    </tr>\n",
       "    <tr>\n",
       "      <th>9</th>\n",
       "      <td>Discrepancy</td>\n",
       "      <td>0.023531</td>\n",
       "      <td>0.025765</td>\n",
       "      <td>0.002837</td>\n",
       "      <td>0.240049</td>\n",
       "    </tr>\n",
       "  </tbody>\n",
       "</table>\n",
       "</div>"
      ],
      "text/plain": [
       "        Feature  Male Mean  Female Mean     MWU P  Cliff's d\n",
       "8     Cognitive   0.152319     0.160829  0.000080   0.290443\n",
       "12      Fillers   0.004838     0.005805  0.000305   0.272564\n",
       "19      Insight   0.016821     0.018784  0.000482   0.266203\n",
       "9   Discrepancy   0.023531     0.025765  0.002837   0.240049"
      ]
     },
     "execution_count": 3,
     "metadata": {},
     "output_type": "execute_result"
    }
   ],
   "source": [
    "result[result['MWU P'] < 0.05][['Feature','Male Mean', 'Female Mean', 'MWU P', 'Cliff\\'s d']]"
   ]
  },
  {
   "cell_type": "markdown",
   "metadata": {},
   "source": [
    "<h2>Among Male Doctor's which liwc features are different among male-female patients </h2>"
   ]
  },
  {
   "cell_type": "code",
   "execution_count": 4,
   "metadata": {
    "collapsed": false
   },
   "outputs": [
    {
     "data": {
      "text/html": [
       "<div>\n",
       "<style scoped>\n",
       "    .dataframe tbody tr th:only-of-type {\n",
       "        vertical-align: middle;\n",
       "    }\n",
       "\n",
       "    .dataframe tbody tr th {\n",
       "        vertical-align: top;\n",
       "    }\n",
       "\n",
       "    .dataframe thead th {\n",
       "        text-align: right;\n",
       "    }\n",
       "</style>\n",
       "<table border=\"1\" class=\"dataframe\">\n",
       "  <thead>\n",
       "    <tr style=\"text-align: right;\">\n",
       "      <th></th>\n",
       "      <th>Feature</th>\n",
       "      <th>Male Mean</th>\n",
       "      <th>Female Mean</th>\n",
       "      <th>MWU P</th>\n",
       "      <th>Cliff's d</th>\n",
       "    </tr>\n",
       "  </thead>\n",
       "  <tbody>\n",
       "  </tbody>\n",
       "</table>\n",
       "</div>"
      ],
      "text/plain": [
       "Empty DataFrame\n",
       "Columns: [Feature, Male Mean, Female Mean, MWU P, Cliff's d]\n",
       "Index: []"
      ]
     },
     "execution_count": 4,
     "metadata": {},
     "output_type": "execute_result"
    }
   ],
   "source": [
    "liwc_categories = ['Achievement','Affective','Anger','Anxiety','Biological','Body','Causation','Certainty','Cognitive',\\\n",
    "                 'Discrepancy','Family','Feeling','Fillers','Friends','Future tense','Health','Hearing','Home',\\\n",
    "                 'Humans','Insight','Leisure','Money','Negative Emotion','Positive emotion','Religion','Sadness',\\\n",
    "                 'Sexual','Social','Swear','Time','death@Death']\n",
    "result = dict()\n",
    "result['Feature'] = []\n",
    "result['Male Mean'] = []\n",
    "result['Female Mean'] = []\n",
    "result['MWU P'] = []\n",
    "result['Cliff\\'s d'] = []\n",
    "for cat in liwc_categories:\n",
    "    male_feat = df_liwc[df_liwc['Filename'].isin(maleD_maleP_file_names)].groupby(['Filename']).sum()\n",
    "    male_feat = male_feat[cat]/male_feat['n_words']\n",
    "    female_feat = df_liwc[df_liwc['Filename'].isin(maleD_femaleP_file_names)].groupby(['Filename']).sum()\n",
    "    female_feat = female_feat[cat]/female_feat['n_words']\n",
    "    U, p = mannwhitneyu(male_feat,female_feat)\n",
    "    d = 2*U/(len(male_feat)*len(female_feat)) -1\n",
    "    result['Feature'].append(cat)\n",
    "    result['Male Mean'].append(male_feat.mean())\n",
    "    result['Female Mean'].append(female_feat.mean())\n",
    "    result['MWU P'].append(p*43)\n",
    "    result['Cliff\\'s d'].append(abs(d))\n",
    "    #print(cat,male_feat.mean(),female_feat.mean(),p,d)\n",
    "result = pd.DataFrame(result)\n",
    "result = result.sort_values(['MWU P'])\n",
    "result[result['MWU P'] < 0.05][['Feature','Male Mean', 'Female Mean', 'MWU P', 'Cliff\\'s d']]"
   ]
  },
  {
   "cell_type": "markdown",
   "metadata": {},
   "source": [
    "<h2>Among Female Doctor's which liwc features are different among male-female patients </h2>"
   ]
  },
  {
   "cell_type": "code",
   "execution_count": 5,
   "metadata": {
    "collapsed": false
   },
   "outputs": [
    {
     "data": {
      "text/html": [
       "<div>\n",
       "<style scoped>\n",
       "    .dataframe tbody tr th:only-of-type {\n",
       "        vertical-align: middle;\n",
       "    }\n",
       "\n",
       "    .dataframe tbody tr th {\n",
       "        vertical-align: top;\n",
       "    }\n",
       "\n",
       "    .dataframe thead th {\n",
       "        text-align: right;\n",
       "    }\n",
       "</style>\n",
       "<table border=\"1\" class=\"dataframe\">\n",
       "  <thead>\n",
       "    <tr style=\"text-align: right;\">\n",
       "      <th></th>\n",
       "      <th>Feature</th>\n",
       "      <th>Male Mean</th>\n",
       "      <th>Female Mean</th>\n",
       "      <th>MWU P</th>\n",
       "      <th>Cliff's d</th>\n",
       "    </tr>\n",
       "  </thead>\n",
       "  <tbody>\n",
       "    <tr>\n",
       "      <th>26</th>\n",
       "      <td>Sexual</td>\n",
       "      <td>0.000348</td>\n",
       "      <td>0.000425</td>\n",
       "      <td>0.002892</td>\n",
       "      <td>0.411131</td>\n",
       "    </tr>\n",
       "  </tbody>\n",
       "</table>\n",
       "</div>"
      ],
      "text/plain": [
       "   Feature  Male Mean  Female Mean     MWU P  Cliff's d\n",
       "26  Sexual   0.000348     0.000425  0.002892   0.411131"
      ]
     },
     "execution_count": 5,
     "metadata": {},
     "output_type": "execute_result"
    }
   ],
   "source": [
    "liwc_categories = ['Achievement','Affective','Anger','Anxiety','Biological','Body','Causation','Certainty','Cognitive',\\\n",
    "                 'Discrepancy','Family','Feeling','Fillers','Friends','Future tense','Health','Hearing','Home',\\\n",
    "                 'Humans','Insight','Leisure','Money','Negative Emotion','Positive emotion','Religion','Sadness',\\\n",
    "                 'Sexual','Social','Swear','Time','death@Death']\n",
    "result = dict()\n",
    "result['Feature'] = []\n",
    "result['Male Mean'] = []\n",
    "result['Female Mean'] = []\n",
    "result['MWU P'] = []\n",
    "result['Cliff\\'s d'] = []\n",
    "for cat in liwc_categories:\n",
    "    male_feat = df_liwc[df_liwc['Filename'].isin(femaleD_maleP_file_names)].groupby(['Filename']).sum()\n",
    "    female_feat = df_liwc[df_liwc['Filename'].isin(femaleD_femaleP_file_names)].groupby(['Filename']).sum()\n",
    "    male_feat = male_feat[cat]/male_feat['n_words']\n",
    "    female_feat = female_feat[cat]/female_feat['n_words']\n",
    "    U, p = mannwhitneyu(male_feat,female_feat)\n",
    "    d = 2*U/(len(male_feat)*len(female_feat)) -1\n",
    "    result['Feature'].append(cat)\n",
    "    result['Male Mean'].append(male_feat.mean())\n",
    "    result['Female Mean'].append(female_feat.mean())\n",
    "    result['MWU P'].append(p*43)\n",
    "    result['Cliff\\'s d'].append(abs(d))\n",
    "    #print(cat,male_feat.mean(),female_feat.mean(),p,d)\n",
    "result = pd.DataFrame(result)\n",
    "result = result.sort_values(['MWU P'])\n",
    "result[result['MWU P'] < 0.05][['Feature','Male Mean', 'Female Mean', 'MWU P', 'Cliff\\'s d']]"
   ]
  },
  {
   "cell_type": "markdown",
   "metadata": {},
   "source": [
    "<h2>Difference in Male-female doctors' features</h2>\n"
   ]
  },
  {
   "cell_type": "code",
   "execution_count": 9,
   "metadata": {
    "collapsed": false
   },
   "outputs": [
    {
     "data": {
      "text/html": [
       "<div>\n",
       "<style scoped>\n",
       "    .dataframe tbody tr th:only-of-type {\n",
       "        vertical-align: middle;\n",
       "    }\n",
       "\n",
       "    .dataframe tbody tr th {\n",
       "        vertical-align: top;\n",
       "    }\n",
       "\n",
       "    .dataframe thead th {\n",
       "        text-align: right;\n",
       "    }\n",
       "</style>\n",
       "<table border=\"1\" class=\"dataframe\">\n",
       "  <thead>\n",
       "    <tr style=\"text-align: right;\">\n",
       "      <th></th>\n",
       "      <th>Feature</th>\n",
       "      <th>Male Mean</th>\n",
       "      <th>Female Mean</th>\n",
       "      <th>MWU P</th>\n",
       "      <th>Cliff's d</th>\n",
       "    </tr>\n",
       "  </thead>\n",
       "  <tbody>\n",
       "    <tr>\n",
       "      <th>4</th>\n",
       "      <td>D words</td>\n",
       "      <td>1664.611765</td>\n",
       "      <td>2410.606299</td>\n",
       "      <td>4.929514e-10</td>\n",
       "      <td>0.419824</td>\n",
       "    </tr>\n",
       "    <tr>\n",
       "      <th>3</th>\n",
       "      <td>D uniq</td>\n",
       "      <td>417.996078</td>\n",
       "      <td>524.291339</td>\n",
       "      <td>1.575202e-08</td>\n",
       "      <td>0.386722</td>\n",
       "    </tr>\n",
       "    <tr>\n",
       "      <th>0</th>\n",
       "      <td>total words</td>\n",
       "      <td>3078.094118</td>\n",
       "      <td>4360.039370</td>\n",
       "      <td>3.257258e-08</td>\n",
       "      <td>0.379435</td>\n",
       "    </tr>\n",
       "    <tr>\n",
       "      <th>1</th>\n",
       "      <td>total uniq</td>\n",
       "      <td>607.450980</td>\n",
       "      <td>739.055118</td>\n",
       "      <td>7.474421e-07</td>\n",
       "      <td>0.346333</td>\n",
       "    </tr>\n",
       "    <tr>\n",
       "      <th>8</th>\n",
       "      <td>P words</td>\n",
       "      <td>965.588235</td>\n",
       "      <td>1337.582677</td>\n",
       "      <td>7.308937e-04</td>\n",
       "      <td>0.260275</td>\n",
       "    </tr>\n",
       "    <tr>\n",
       "      <th>5</th>\n",
       "      <td>D wpt</td>\n",
       "      <td>16.316406</td>\n",
       "      <td>17.931134</td>\n",
       "      <td>1.717598e-03</td>\n",
       "      <td>0.247707</td>\n",
       "    </tr>\n",
       "    <tr>\n",
       "      <th>2</th>\n",
       "      <td>total wpt</td>\n",
       "      <td>12.333780</td>\n",
       "      <td>13.180371</td>\n",
       "      <td>6.294386e-03</td>\n",
       "      <td>0.227420</td>\n",
       "    </tr>\n",
       "    <tr>\n",
       "      <th>7</th>\n",
       "      <td>P uniq</td>\n",
       "      <td>293.701961</td>\n",
       "      <td>348.669291</td>\n",
       "      <td>6.945004e-03</td>\n",
       "      <td>0.225814</td>\n",
       "    </tr>\n",
       "    <tr>\n",
       "      <th>6</th>\n",
       "      <td>D pos_avg</td>\n",
       "      <td>0.207626</td>\n",
       "      <td>0.223381</td>\n",
       "      <td>5.131158e-02</td>\n",
       "      <td>0.190736</td>\n",
       "    </tr>\n",
       "  </tbody>\n",
       "</table>\n",
       "</div>"
      ],
      "text/plain": [
       "       Feature    Male Mean  Female Mean         MWU P  Cliff's d\n",
       "4      D words  1664.611765  2410.606299  4.929514e-10   0.419824\n",
       "3       D uniq   417.996078   524.291339  1.575202e-08   0.386722\n",
       "0  total words  3078.094118  4360.039370  3.257258e-08   0.379435\n",
       "1   total uniq   607.450980   739.055118  7.474421e-07   0.346333\n",
       "8      P words   965.588235  1337.582677  7.308937e-04   0.260275\n",
       "5        D wpt    16.316406    17.931134  1.717598e-03   0.247707\n",
       "2    total wpt    12.333780    13.180371  6.294386e-03   0.227420\n",
       "7       P uniq   293.701961   348.669291  6.945004e-03   0.225814\n",
       "6    D pos_avg     0.207626     0.223381  5.131158e-02   0.190736"
      ]
     },
     "execution_count": 9,
     "metadata": {},
     "output_type": "execute_result"
    }
   ],
   "source": [
    "from scipy.stats import ttest_ind\n",
    "feat_result = dict()\n",
    "feat_result['Feature'] = []\n",
    "feat_result['Male Mean'] = []\n",
    "feat_result['Female Mean'] = []\n",
    "feat_result['MWU P'] = []\n",
    "feat_result['Cliff\\'s d'] = []\n",
    "for cat in feature_keys:\n",
    "    male_feat = df[df['Filename'].isin(male_doctor_file_names)].groupby(['Filename']).mean()[cat]\n",
    "    female_feat = df[df['Filename'].isin(female_doctor_file_names)].groupby(['Filename']).mean()[cat]\n",
    "    U, p = mannwhitneyu(male_feat,female_feat)\n",
    "    #p = ttest_ind(male_feat,female_feat)[1]\n",
    "    d = 2*U/(len(male_feat)*len(female_feat)) -1\n",
    "    feat_result['Feature'].append(cat)\n",
    "    feat_result['Male Mean'].append(male_feat.mean())\n",
    "    feat_result['Female Mean'].append(female_feat.mean())\n",
    "    feat_result['MWU P'].append(p*43)\n",
    "    feat_result['Cliff\\'s d'].append(abs(d))\n",
    "    #print(cat,male_feat.mean(),female_feat.mean(),p,d)\n",
    "feat_result = pd.DataFrame(feat_result)\n",
    "feat_result = feat_result.sort_values(['MWU P'])\n",
    "feat_result[feat_result['MWU P'] < 1][['Feature','Male Mean', 'Female Mean', 'MWU P', 'Cliff\\'s d']]"
   ]
  },
  {
   "cell_type": "markdown",
   "metadata": {},
   "source": [
    "<h2>Among Male Doctor's which features are different among male-female patients </h2>"
   ]
  },
  {
   "cell_type": "code",
   "execution_count": 7,
   "metadata": {
    "collapsed": false
   },
   "outputs": [
    {
     "data": {
      "text/html": [
       "<div>\n",
       "<style scoped>\n",
       "    .dataframe tbody tr th:only-of-type {\n",
       "        vertical-align: middle;\n",
       "    }\n",
       "\n",
       "    .dataframe tbody tr th {\n",
       "        vertical-align: top;\n",
       "    }\n",
       "\n",
       "    .dataframe thead th {\n",
       "        text-align: right;\n",
       "    }\n",
       "</style>\n",
       "<table border=\"1\" class=\"dataframe\">\n",
       "  <thead>\n",
       "    <tr style=\"text-align: right;\">\n",
       "      <th></th>\n",
       "      <th>Feature</th>\n",
       "      <th>Male Mean</th>\n",
       "      <th>Female Mean</th>\n",
       "      <th>MWU P</th>\n",
       "      <th>Cliff's d</th>\n",
       "    </tr>\n",
       "  </thead>\n",
       "  <tbody>\n",
       "  </tbody>\n",
       "</table>\n",
       "</div>"
      ],
      "text/plain": [
       "Empty DataFrame\n",
       "Columns: [Feature, Male Mean, Female Mean, MWU P, Cliff's d]\n",
       "Index: []"
      ]
     },
     "execution_count": 7,
     "metadata": {},
     "output_type": "execute_result"
    }
   ],
   "source": [
    "feat_result = dict()\n",
    "feat_result['Feature'] = []\n",
    "feat_result['Male Mean'] = []\n",
    "feat_result['Female Mean'] = []\n",
    "feat_result['MWU P'] = []\n",
    "feat_result['Cliff\\'s d'] = []\n",
    "for cat in feature_keys:\n",
    "    male_feat = df[df['Filename'].isin(maleD_maleP_file_names)].groupby(['Filename']).mean()[cat]\n",
    "    female_feat = df[df['Filename'].isin(maleD_femaleP_file_names)].groupby(['Filename']).mean()[cat]\n",
    "    U, p = mannwhitneyu(male_feat,female_feat)\n",
    "    d = 2*U/(len(male_feat)*len(female_feat)) -1\n",
    "    feat_result['Feature'].append(cat)\n",
    "    feat_result['Male Mean'].append(male_feat.mean())\n",
    "    feat_result['Female Mean'].append(female_feat.mean())\n",
    "    feat_result['MWU P'].append(p*43)\n",
    "    feat_result['Cliff\\'s d'].append(abs(d))\n",
    "    #print(cat,male_feat.mean(),female_feat.mean(),p,d)\n",
    "feat_result = pd.DataFrame(feat_result)\n",
    "feat_result = feat_result.sort_values(['MWU P'])\n",
    "feat_result[feat_result['MWU P'] < 0.05][['Feature','Male Mean', 'Female Mean', 'MWU P', 'Cliff\\'s d']]"
   ]
  },
  {
   "cell_type": "markdown",
   "metadata": {},
   "source": [
    "<h2>Among Female Doctor's which features are different among male-female patients </h2>"
   ]
  },
  {
   "cell_type": "code",
   "execution_count": 8,
   "metadata": {
    "collapsed": false
   },
   "outputs": [
    {
     "data": {
      "text/html": [
       "<div>\n",
       "<style scoped>\n",
       "    .dataframe tbody tr th:only-of-type {\n",
       "        vertical-align: middle;\n",
       "    }\n",
       "\n",
       "    .dataframe tbody tr th {\n",
       "        vertical-align: top;\n",
       "    }\n",
       "\n",
       "    .dataframe thead th {\n",
       "        text-align: right;\n",
       "    }\n",
       "</style>\n",
       "<table border=\"1\" class=\"dataframe\">\n",
       "  <thead>\n",
       "    <tr style=\"text-align: right;\">\n",
       "      <th></th>\n",
       "      <th>Feature</th>\n",
       "      <th>Male Mean</th>\n",
       "      <th>Female Mean</th>\n",
       "      <th>MWU P</th>\n",
       "      <th>Cliff's d</th>\n",
       "    </tr>\n",
       "  </thead>\n",
       "  <tbody>\n",
       "  </tbody>\n",
       "</table>\n",
       "</div>"
      ],
      "text/plain": [
       "Empty DataFrame\n",
       "Columns: [Feature, Male Mean, Female Mean, MWU P, Cliff's d]\n",
       "Index: []"
      ]
     },
     "execution_count": 8,
     "metadata": {},
     "output_type": "execute_result"
    }
   ],
   "source": [
    "feat_result = dict()\n",
    "feat_result['Feature'] = []\n",
    "feat_result['Male Mean'] = []\n",
    "feat_result['Female Mean'] = []\n",
    "feat_result['MWU P'] = []\n",
    "feat_result['Cliff\\'s d'] = []\n",
    "for cat in feature_keys:\n",
    "    male_feat = df[df['Filename'].isin(femaleD_maleP_file_names)].groupby(['Filename']).mean()[cat]\n",
    "    female_feat = df[df['Filename'].isin(femaleD_femaleP_file_names)].groupby(['Filename']).mean()[cat]\n",
    "    U, p = mannwhitneyu(male_feat,female_feat)\n",
    "    d = 2*U/(len(male_feat)*len(female_feat)) -1\n",
    "    feat_result['Feature'].append(cat)\n",
    "    feat_result['Male Mean'].append(male_feat.mean())\n",
    "    feat_result['Female Mean'].append(female_feat.mean())\n",
    "    feat_result['MWU P'].append(p*43)\n",
    "    feat_result['Cliff\\'s d'].append(abs(d))\n",
    "    #print(cat,male_feat.mean(),female_feat.mean(),p,d)\n",
    "feat_result = pd.DataFrame(feat_result)\n",
    "feat_result = feat_result.sort_values(['MWU P'])\n",
    "feat_result[feat_result['MWU P'] < 0.05][['Feature','Male Mean', 'Female Mean', 'MWU P', 'Cliff\\'s d']]"
   ]
  }
 ],
 "metadata": {
  "anaconda-cloud": {},
  "kernelspec": {
   "display_name": "Python [Root]",
   "language": "python",
   "name": "Python [Root]"
  },
  "language_info": {
   "codemirror_mode": {
    "name": "ipython",
    "version": 3
   },
   "file_extension": ".py",
   "mimetype": "text/x-python",
   "name": "python",
   "nbconvert_exporter": "python",
   "pygments_lexer": "ipython3",
   "version": "3.5.2"
  }
 },
 "nbformat": 4,
 "nbformat_minor": 0
}
